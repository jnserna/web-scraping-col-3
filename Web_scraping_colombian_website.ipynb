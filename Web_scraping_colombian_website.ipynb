{
  "nbformat": 4,
  "nbformat_minor": 0,
  "metadata": {
    "colab": {
      "provenance": []
    },
    "kernelspec": {
      "name": "python3",
      "display_name": "Python 3"
    },
    "language_info": {
      "name": "python"
    }
  },
  "cells": [
    {
      "cell_type": "code",
      "source": [
        "import requests\n",
        "import pandas as pd\n",
        "\n",
        "# Initialize lists to store all product details\n",
        "all_product_names = []\n",
        "all_product_prices = []\n",
        "all_product_sku = []\n",
        "\n",
        "# Define the base URL of the website to scrape\n",
        "base_url = \"https://www.soberana.com.co/wp-json/wc/store/products\"\n",
        "\n",
        "# Define the number of pages to scrape (you may adjust this based on the actual number of pages)\n",
        "num_pages = 4  # for example, scrape the first 3 pages\n",
        "\n",
        "# Iterate through each page\n",
        "for page in range(1, num_pages + 1):\n",
        "    # Construct the URL for the current page\n",
        "    url = f\"{base_url}?page={page}\"\n",
        "\n",
        "    # Send a GET request to the URL\n",
        "    response = requests.get(url)\n",
        "\n",
        "    # Check if the request was successful\n",
        "    if response.status_code == 200:\n",
        "        # Extract JSON data\n",
        "        data = response.json()\n",
        "\n",
        "        # Extract product details from the current page\n",
        "        product_names = [product['name'] for product in data]\n",
        "        product_prices = [product['prices']['price'] for product in data]\n",
        "        product_sku = [product['sku'] for product in data]\n",
        "\n",
        "        # Append product details to the lists\n",
        "        all_product_names.extend(product_names)\n",
        "        all_product_prices.extend(product_prices)\n",
        "        all_product_sku.extend(product_sku)\n",
        "\n",
        "# Create a DataFrame to store all the scraped data\n",
        "product_data = {\"Product Name\": all_product_names, \"Price\": all_product_prices, \"sku\": all_product_sku}\n",
        "df = pd.DataFrame(product_data)\n",
        "\n",
        "# Save the DataFrame to an Excel file\n",
        "df.to_excel(\"product_data_file.xlsx\", index=False)\n",
        "\n",
        "print(\"Data saved to product_data_file.xlsx\")\n"
      ],
      "metadata": {
        "colab": {
          "base_uri": "https://localhost:8080/"
        },
        "id": "pT9D07917LtX",
        "outputId": "6b0fcdf9-0563-4cb7-d14e-1f23ee7a189d"
      },
      "execution_count": 1,
      "outputs": [
        {
          "output_type": "stream",
          "name": "stdout",
          "text": [
            "Data saved to product_data_file.xlsx\n"
          ]
        }
      ]
    }
  ]
}